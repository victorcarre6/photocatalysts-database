{
 "cells": [
  {
   "cell_type": "code",
   "execution_count": 1,
   "id": "962e8bb6-bb45-4fc7-bffe-df6c6d2f1d00",
   "metadata": {},
   "outputs": [
    {
     "name": "stderr",
     "output_type": "stream",
     "text": [
      "/Users/victorcarre/Library/Python/3.9/lib/python/site-packages/urllib3/__init__.py:35: NotOpenSSLWarning: urllib3 v2 only supports OpenSSL 1.1.1+, currently the 'ssl' module is compiled with 'LibreSSL 2.8.3'. See: https://github.com/urllib3/urllib3/issues/3020\n",
      "  warnings.warn(\n"
     ]
    }
   ],
   "source": [
    "import os\n",
    "import requests\n",
    "import pandas as pd\n",
    "from bs4 import BeautifulSoup\n",
    "from urllib.parse import urljoin\n",
    "\n",
    "BASE_URL = \"https://photochemcad.com/databases/common-compounds/aromatic-hydrocarbons/\"\n",
    "OUTPUT_DIR = \"PhotochemCAD_Data\"\n",
    "CSV_FILE = \"photochemcad_data.csv\"\n",
    "\n",
    "os.makedirs(OUTPUT_DIR, exist_ok=True)"
   ]
  },
  {
   "cell_type": "code",
   "execution_count": null,
   "id": "3a7f8c02-cc68-4022-965d-f6bef1a714b6",
   "metadata": {},
   "outputs": [],
   "source": [
    "def get_molecule_links(base_url):\n",
    "    response = requests.get(base_url)\n",
    "    soup = BeautifulSoup(response.content, 'html.parser')\n",
    "    links = [urljoin(base_url, a['href']) for a in soup.select(\".entry-content a[href]\")]\n",
    "    return links"
   ]
  },
  {
   "cell_type": "code",
   "execution_count": 2,
   "id": "cda66de0-8d08-4851-909e-9b957a79da1e",
   "metadata": {},
   "outputs": [],
   "source": [
    "\n",
    "def extract_data(molecule_url):\n",
    "    \"\"\"Extrait les données de chaque molécule et télécharge les fichiers associés.\"\"\"\n",
    "    response = requests.get(molecule_url)\n",
    "    soup = BeautifulSoup(response.content, 'html.parser')\n",
    "    data = {}\n",
    "    \n",
    "    # Extraction des données du tableau\n",
    "    table = soup.find(\"table\")\n",
    "    rows = table.find_all(\"tr\")\n",
    "    for row in rows:\n",
    "        cells = row.find_all(\"td\")\n",
    "        if len(cells) == 2:\n",
    "            key = cells[0].text.strip().replace(\":\", \"\")\n",
    "            value = cells[1].text.strip()\n",
    "            data[key] = value\n",
    "    \n",
    "    # Récupération du nom pour les fichiers\n",
    "    molecule_name = data.get(\"Name\", \"Unknown\").replace(\" \", \"_\")\n",
    "\n",
    "    # Téléchargement des fichiers disponibles\n",
    "    file_links = soup.select(\".entry-content a[href]\")\n",
    "    for link in file_links:\n",
    "        file_url = urljoin(molecule_url, link['href'])\n",
    "        file_name = link.text.strip().replace(\" \", \"_\")\n",
    "        extension = os.path.splitext(file_url)[-1]\n",
    "        full_file_name = f\"{OUTPUT_DIR}/{file_name}-{molecule_name}{extension}\"\n",
    "        \n",
    "        # Téléchargement du fichier\n",
    "        try:\n",
    "            file_response = requests.get(file_url)\n",
    "            with open(full_file_name, 'wb') as f:\n",
    "                f.write(file_response.content)\n",
    "            print(f\"✅ Fichier téléchargé : {full_file_name}\")\n",
    "        except Exception as e:\n",
    "            print(f\"❌ Erreur lors du téléchargement de {file_url} : {e}\")\n",
    "    \n",
    "    return data"
   ]
  },
  {
   "cell_type": "code",
   "execution_count": 3,
   "id": "c814bf8f-24dd-477c-96bd-cb42708c837a",
   "metadata": {},
   "outputs": [],
   "source": [
    "def main():\n",
    "    # Récupération des liens de molécules\n",
    "    molecule_links = get_molecule_links(BASE_URL)\n",
    "    all_data = []\n",
    "\n",
    "    # Extraction des données pour chaque molécule\n",
    "    for link in molecule_links:\n",
    "        try:\n",
    "            print(f\"🔄 Extraction des données pour : {link}\")\n",
    "            molecule_data = extract_data(link)\n",
    "            all_data.append(molecule_data)\n",
    "        except Exception as e:\n",
    "            print(f\"❌ Erreur lors de l'extraction pour {link} : {e}\")\n",
    "\n",
    "    # Sauvegarde des données dans un CSV\n",
    "    df = pd.DataFrame(all_data)\n",
    "    df.to_csv(CSV_FILE, index=False)\n",
    "    print(f\"\\n📁 Données sauvegardées dans {CSV_FILE}\")"
   ]
  },
  {
   "cell_type": "code",
   "execution_count": 4,
   "id": "bf8e0e98-c7e9-40f7-872f-4c9adb897c2f",
   "metadata": {},
   "outputs": [
    {
     "ename": "NameError",
     "evalue": "name 'get_molecule_links' is not defined",
     "output_type": "error",
     "traceback": [
      "\u001b[0;31m---------------------------------------------------------------------------\u001b[0m",
      "\u001b[0;31mNameError\u001b[0m                                 Traceback (most recent call last)",
      "Cell \u001b[0;32mIn[4], line 2\u001b[0m\n\u001b[1;32m      1\u001b[0m \u001b[38;5;28;01mif\u001b[39;00m \u001b[38;5;18m__name__\u001b[39m \u001b[38;5;241m==\u001b[39m \u001b[38;5;124m\"\u001b[39m\u001b[38;5;124m__main__\u001b[39m\u001b[38;5;124m\"\u001b[39m:\n\u001b[0;32m----> 2\u001b[0m     \u001b[43mmain\u001b[49m\u001b[43m(\u001b[49m\u001b[43m)\u001b[49m\n",
      "Cell \u001b[0;32mIn[3], line 3\u001b[0m, in \u001b[0;36mmain\u001b[0;34m()\u001b[0m\n\u001b[1;32m      1\u001b[0m \u001b[38;5;28;01mdef\u001b[39;00m\u001b[38;5;250m \u001b[39m\u001b[38;5;21mmain\u001b[39m():\n\u001b[1;32m      2\u001b[0m     \u001b[38;5;66;03m# Récupération des liens de molécules\u001b[39;00m\n\u001b[0;32m----> 3\u001b[0m     molecule_links \u001b[38;5;241m=\u001b[39m \u001b[43mget_molecule_links\u001b[49m(BASE_URL)\n\u001b[1;32m      4\u001b[0m     all_data \u001b[38;5;241m=\u001b[39m []\n\u001b[1;32m      6\u001b[0m     \u001b[38;5;66;03m# Extraction des données pour chaque molécule\u001b[39;00m\n",
      "\u001b[0;31mNameError\u001b[0m: name 'get_molecule_links' is not defined"
     ]
    }
   ],
   "source": [
    "if __name__ == \"__main__\":\n",
    "    main()"
   ]
  },
  {
   "cell_type": "code",
   "execution_count": null,
   "id": "f65b2cd0-da1b-4ee4-8937-bb850139e0a5",
   "metadata": {},
   "outputs": [],
   "source": [
    "import subprocess\n",
    "from datetime import datetime\n",
    "\n",
    "def run_command(command):\n",
    "    subprocess.run(command, shell=True, check=True)\n",
    "\n",
    "# Naviguer dans le répertoire\n",
    "run_command(\"cd /chemin/vers/ton/projet\")\n",
    "\n",
    "# Ajouter les fichiers\n",
    "run_command(\"git add .\")\n",
    "\n",
    "# Commit automatique avec la date et l'heure\n",
    "commit_message = f\"Auto commit {datetime.now().strftime('%Y-%m-%d %H:%M:%S')}\"\n",
    "run_command(f\"git commit -m \\\"{commit_message}\\\"\")\n",
    "\n",
    "# Pousser vers GitHub\n",
    "run_command(\"git push origin main\")"
   ]
  }
 ],
 "metadata": {
  "kernelspec": {
   "display_name": "Python 3 (ipykernel)",
   "language": "python",
   "name": "python3"
  },
  "language_info": {
   "codemirror_mode": {
    "name": "ipython",
    "version": 3
   },
   "file_extension": ".py",
   "mimetype": "text/x-python",
   "name": "python",
   "nbconvert_exporter": "python",
   "pygments_lexer": "ipython3",
   "version": "3.9.6"
  }
 },
 "nbformat": 4,
 "nbformat_minor": 5
}
