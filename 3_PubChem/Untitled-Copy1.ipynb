{
 "cells": [
  {
   "cell_type": "code",
   "execution_count": 1,
   "id": "20d18bbd-a0ef-4a7c-88a8-a2c6530c303f",
   "metadata": {},
   "outputs": [],
   "source": [
    "import pandas as pd\n",
    "import pubchempy as pcp\n",
    "import concurrent.futures\n",
    "import os\n",
    "\n",
    "# Chemin vers ton fichier CSV\n",
    "input_csv = \"photocompounds_database.csv\"\n",
    "output_csv = \"photocompounds_database_pubchem.csv\"\n",
    "\n",
    "# Charger le fichier CSV\n",
    "data = pd.read_csv(input_csv, sep=\";\")"
   ]
  },
  {
   "cell_type": "code",
   "execution_count": 2,
   "id": "43634211-ae18-44a2-ba06-03521f413546",
   "metadata": {},
   "outputs": [],
   "source": [
    "# Colonnes à ajouter\n",
    "new_columns = [\"Molecular Weight\", \"Chemical Formula\", \"SMILES\", \n",
    "               \"H-Bond Donor Count\", \"H-Bond Acceptor Count\", \n",
    "               \"Solubility\", \"Melting Point\", \"Boiling Point\", \"pKa\"]\n",
    "\n",
    "# Ajouter les nouvelles colonnes si elles n'existent pas encore\n",
    "for col in new_columns:\n",
    "    if col not in data.columns:\n",
    "        data[col] = \"\""
   ]
  },
  {
   "cell_type": "code",
   "execution_count": 3,
   "id": "485eae65-4f2f-462c-ad3a-0b66cc41baf1",
   "metadata": {},
   "outputs": [],
   "source": [
    "# Fonction pour enrichir les données pour un CAS donné\n",
    "def enrich_row(index, row):\n",
    "    cas_number = row[\"CAS\"]\n",
    "    try:\n",
    "        # Vérifier si les données sont déjà présentes\n",
    "        if pd.notna(row[\"SMILES\"]):\n",
    "            return row  # Déjà enrichi, on passe\n",
    "\n",
    "        # Récupérer les informations depuis PubChem\n",
    "        compound = pcp.get_compounds(cas_number, \"name\")\n",
    "        if compound:\n",
    "            comp = compound[0]\n",
    "            row[\"Molecular Weight\"] = comp.molecular_weight\n",
    "            row[\"Chemical Formula\"] = comp.molecular_formula\n",
    "            row[\"SMILES\"] = comp.canonical_smiles\n",
    "            row[\"H-Bond Donor Count\"] = comp.h_bond_donor_count\n",
    "            row[\"H-Bond Acceptor Count\"] = comp.h_bond_acceptor_count\n",
    "            \n",
    "            # Extraire les propriétés supplémentaires\n",
    "            properties = comp.to_dict()\n",
    "            row[\"Solubility\"] = properties.get(\"Solubility\", \"\")\n",
    "            row[\"Melting Point\"] = properties.get(\"Melting Point\", \"\")\n",
    "            row[\"Boiling Point\"] = properties.get(\"Boiling Point\", \"\")\n",
    "            row[\"pKa\"] = properties.get(\"pKa\", \"\")\n",
    "\n",
    "            print(f\"✅ Informations ajoutées pour le CAS {cas_number}\")\n",
    "        else:\n",
    "            print(f\"⚠️ Aucune information trouvée pour le CAS {cas_number}\")\n",
    "\n",
    "    except Exception as e:\n",
    "        print(f\"⚠️ Erreur pour le CAS {cas_number} : {e}\")\n",
    "\n",
    "    return row"
   ]
  },
  {
   "cell_type": "code",
   "execution_count": 4,
   "id": "65674f5d-1c74-4d9c-9f2d-1697b85c9285",
   "metadata": {},
   "outputs": [],
   "source": [
    "# Fonction pour enrichir les données pour un CAS donné\n",
    "def enrich_row(index, row):\n",
    "    cas_number = row[\"CAS\"]\n",
    "    try:\n",
    "        # Vérifier si les données sont déjà présentes\n",
    "        if pd.notna(row[\"SMILES\"]):\n",
    "            return row  # Déjà enrichi, on passe\n",
    "\n",
    "        # Récupérer les informations depuis PubChem\n",
    "        compound = pcp.get_compounds(cas_number, \"name\")\n",
    "        if compound:\n",
    "            comp = compound[0]\n",
    "            row[\"Molecular Weight\"] = comp.molecular_weight\n",
    "            row[\"Chemical Formula\"] = comp.molecular_formula\n",
    "            row[\"SMILES\"] = comp.canonical_smiles\n",
    "            row[\"H-Bond Donor Count\"] = comp.h_bond_donor_count\n",
    "            row[\"H-Bond Acceptor Count\"] = comp.h_bond_acceptor_count\n",
    "            \n",
    "            # Extraire les propriétés supplémentaires\n",
    "            properties = comp.to_dict()\n",
    "            row[\"Solubility\"] = properties.get(\"Solubility\", \"\")\n",
    "            row[\"Melting Point\"] = properties.get(\"Melting Point\", \"\")\n",
    "            row[\"Boiling Point\"] = properties.get(\"Boiling Point\", \"\")\n",
    "            row[\"pKa\"] = properties.get(\"pKa\", \"\")\n",
    "\n",
    "            print(f\"✅ Informations ajoutées pour le CAS {cas_number}\")\n",
    "        else:\n",
    "            print(f\"⚠️ Aucune information trouvée pour le CAS {cas_number}\")\n",
    "\n",
    "    except Exception as e:\n",
    "        print(f\"⚠️ Erreur pour le CAS {cas_number} : {e}\")\n",
    "\n",
    "    return row\n",
    "\n",
    "    # Utiliser un ThreadPoolExecutor pour accélérer le traitement\n",
    "with concurrent.futures.ThreadPoolExecutor(max_workers=10) as executor:\n",
    "    results = list(executor.map(lambda args: enrich_row(*args), data.iterrows()))"
   ]
  },
  {
   "cell_type": "code",
   "execution_count": 5,
   "id": "fa2b84aa-953d-4ae3-9130-ef1ea5af90ee",
   "metadata": {},
   "outputs": [],
   "source": [
    "# Créer un nouveau DataFrame à partir des résultats\n",
    "enriched_data = pd.DataFrame(results)"
   ]
  },
  {
   "cell_type": "code",
   "execution_count": 6,
   "id": "e5602c00-a475-489f-8a29-59abf66d4aa9",
   "metadata": {},
   "outputs": [
    {
     "name": "stdout",
     "output_type": "stream",
     "text": [
      "\n",
      "✅ Fichier enrichi sauvegardé sous : photocompounds_database_pubchem.csv\n"
     ]
    }
   ],
   "source": [
    "# Sauvegarder le fichier enrichi\n",
    "enriched_data.to_csv(output_csv, sep=\",\", index=False)\n",
    "print(\"\\n✅ Fichier enrichi sauvegardé sous :\", output_csv)"
   ]
  },
  {
   "cell_type": "code",
   "execution_count": null,
   "id": "9b4cb2d3-1e45-42f0-90ba-a518e454706a",
   "metadata": {},
   "outputs": [],
   "source": []
  }
 ],
 "metadata": {
  "kernelspec": {
   "display_name": "Python 3 (ipykernel)",
   "language": "python",
   "name": "python3"
  },
  "language_info": {
   "codemirror_mode": {
    "name": "ipython",
    "version": 3
   },
   "file_extension": ".py",
   "mimetype": "text/x-python",
   "name": "python",
   "nbconvert_exporter": "python",
   "pygments_lexer": "ipython3",
   "version": "3.9.6"
  }
 },
 "nbformat": 4,
 "nbformat_minor": 5
}
