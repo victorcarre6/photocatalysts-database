{
 "cells": [
  {
   "cell_type": "code",
   "execution_count": 1,
   "id": "b5d3a4b2-7bce-4b9a-a30a-a3f88546ce99",
   "metadata": {},
   "outputs": [],
   "source": [
    "import pdfplumber\n",
    "import pandas as pd\n",
    "import re\n",
    "\n",
    "# Ouvrir le PDF\n",
    "pdf_file = \"nicewicz_chemcommun_2016_crop.pdf\""
   ]
  },
  {
   "cell_type": "code",
   "execution_count": 2,
   "id": "e570d4fc-1fbb-4b02-ab55-8d526a18e942",
   "metadata": {},
   "outputs": [],
   "source": [
    "# Variables pour stocker les données\n",
    "data = []\n",
    "columns = [\n",
    "    \"Abbreviation\", \"L(abs,max), nm\", \"tf (ns)\", \"(phi)f\", \"(phi)ISC\", \"E(0,0; S1)\", \"E(0,0; T1)\", \n",
    "    \"Ered\", \"Eox\", \"Ered, S1\", \"Eox, S1\", \"Ered, T1\", \"Eox, T1\"\n",
    "]\n"
   ]
  },
  {
   "cell_type": "code",
   "execution_count": 13,
   "id": "1a4740f9-0bad-4e27-a819-105e4626ed6f",
   "metadata": {},
   "outputs": [
    {
     "name": "stderr",
     "output_type": "stream",
     "text": [
      "CropBox missing from /Page, defaulting to MediaBox\n",
      "CropBox missing from /Page, defaulting to MediaBox\n"
     ]
    }
   ],
   "source": [
    "with pdfplumber.open(pdf_file, laparams={\"all_texts\": True}) as pdf:\n",
    "    for page in pdf.pages:\n",
    "        # Extraction brute\n",
    "        text = page.extract_text(x_tolerance=1, y_tolerance=1)\n",
    "       \n",
    "        # Détection des lignes du tableau\n",
    "        rows = re.findall(\n",
    "            r\"([A-Za-z0-9+~\\-]+)\\s+([0-9.~]+)\\s+([0-9.~]+)\\s+([0-9.~]+)\\s+([0-9.~]+)\\s+([0-9.~]+)\\s+([0-9.~]+)\\s+([-0-9.~]+)\\s+([-0-9.~]+)\\s+([-0-9.~]+)\\s+([-0-9.~]+)\\s+([-0-9.~]+)\\s+([-0-9.~]+)\",\n",
    "            text.replace(\"\\n\", \" \")\n",
    "        )\n",
    "        \n",
    "        # Ajouter les lignes au tableau de données\n",
    "        for row in rows:\n",
    "            data.append(row)"
   ]
  },
  {
   "cell_type": "code",
   "execution_count": null,
   "id": "da9bfa18-5c09-4373-b3af-d718e93a28a9",
   "metadata": {},
   "outputs": [],
   "source": [
    "# Vérifier que des données ont été extraites\n",
    "if data:\n",
    "    # Créer le DataFrame\n",
    "    df = pd.DataFrame(data, columns=columns)\n",
    "\n",
    "    # Exporter en CSV\n",
    "    output_file = \"/mnt/data/photophysical_properties_corrected.csv\"\n",
    "    df.to_csv(output_file, index=False)\n",
    "    print(f\"Les données ont été exportées avec succès dans le fichier : {output_file}\")\n",
    "else:\n",
    "    print(\"Aucune donnée trouvée. Vérifie le format du tableau.\")"
   ]
  },
  {
   "cell_type": "code",
   "execution_count": 4,
   "id": "9210003c-137e-4a3f-969f-474cdf06d5e2",
   "metadata": {},
   "outputs": [],
   "source": [
    "# Créer un DataFrame\n",
    "df = pd.DataFrame(data, columns=columns)"
   ]
  },
  {
   "cell_type": "code",
   "execution_count": 6,
   "id": "c659951c-529f-4605-9155-f620a96136f7",
   "metadata": {},
   "outputs": [
    {
     "name": "stdout",
     "output_type": "stream",
     "text": [
      "Les données ont été exportées avec succès dans le fichier : nicewicz_photocatalysts.csv\n"
     ]
    }
   ],
   "source": [
    "# Exporter en CSV\n",
    "output_file = \"nicewicz_photocatalysts.csv\"\n",
    "df.to_csv(output_file, index=False)\n",
    "print(f\"Les données ont été exportées avec succès dans le fichier : {output_file}\")"
   ]
  },
  {
   "cell_type": "code",
   "execution_count": null,
   "id": "0050c766-198d-4504-b8d5-256e589c9825",
   "metadata": {},
   "outputs": [],
   "source": []
  },
  {
   "cell_type": "code",
   "execution_count": null,
   "id": "83d01f86-9544-485e-96e3-07192334d71c",
   "metadata": {},
   "outputs": [],
   "source": []
  },
  {
   "cell_type": "code",
   "execution_count": 17,
   "id": "68d478bc-1b47-46c0-821d-a38f0934c87d",
   "metadata": {},
   "outputs": [
    {
     "name": "stderr",
     "output_type": "stream",
     "text": [
      "CropBox missing from /Page, defaulting to MediaBox\n"
     ]
    },
    {
     "name": "stdout",
     "output_type": "stream",
     "text": [
      "0 tableaux extraits.\n"
     ]
    },
    {
     "name": "stderr",
     "output_type": "stream",
     "text": [
      "/Users/victorcarre/Library/Python/3.9/lib/python/site-packages/camelot/parsers/base.py:124: UserWarning: page-1 is image-based, camelot only works on text-based pages.\n",
      "  warnings.warn(\n"
     ]
    },
    {
     "ename": "ValueError",
     "evalue": "No objects to concatenate",
     "output_type": "error",
     "traceback": [
      "\u001b[0;31m---------------------------------------------------------------------------\u001b[0m",
      "\u001b[0;31mValueError\u001b[0m                                Traceback (most recent call last)",
      "Cell \u001b[0;32mIn[17], line 14\u001b[0m\n\u001b[1;32m     11\u001b[0m \u001b[38;5;28mprint\u001b[39m(\u001b[38;5;124mf\u001b[39m\u001b[38;5;124m\"\u001b[39m\u001b[38;5;132;01m{\u001b[39;00m\u001b[38;5;28mlen\u001b[39m(tables)\u001b[38;5;132;01m}\u001b[39;00m\u001b[38;5;124m tableaux extraits.\u001b[39m\u001b[38;5;124m\"\u001b[39m)\n\u001b[1;32m     13\u001b[0m \u001b[38;5;66;03m# Concaténer tous les tableaux détectés en un seul DataFrame\u001b[39;00m\n\u001b[0;32m---> 14\u001b[0m df_all \u001b[38;5;241m=\u001b[39m \u001b[43mpd\u001b[49m\u001b[38;5;241;43m.\u001b[39;49m\u001b[43mconcat\u001b[49m\u001b[43m(\u001b[49m\u001b[43m[\u001b[49m\u001b[43mtable\u001b[49m\u001b[38;5;241;43m.\u001b[39;49m\u001b[43mdf\u001b[49m\u001b[43m \u001b[49m\u001b[38;5;28;43;01mfor\u001b[39;49;00m\u001b[43m \u001b[49m\u001b[43mtable\u001b[49m\u001b[43m \u001b[49m\u001b[38;5;129;43;01min\u001b[39;49;00m\u001b[43m \u001b[49m\u001b[43mtables\u001b[49m\u001b[43m]\u001b[49m\u001b[43m,\u001b[49m\u001b[43m \u001b[49m\u001b[43mignore_index\u001b[49m\u001b[38;5;241;43m=\u001b[39;49m\u001b[38;5;28;43;01mTrue\u001b[39;49;00m\u001b[43m)\u001b[49m\n\u001b[1;32m     16\u001b[0m \u001b[38;5;66;03m# Exporter en CSV\u001b[39;00m\n\u001b[1;32m     17\u001b[0m output_file \u001b[38;5;241m=\u001b[39m \u001b[38;5;124m\"\u001b[39m\u001b[38;5;124mphotophysical_properties_camelot.csv\u001b[39m\u001b[38;5;124m\"\u001b[39m\n",
      "File \u001b[0;32m~/Library/Python/3.9/lib/python/site-packages/pandas/core/reshape/concat.py:382\u001b[0m, in \u001b[0;36mconcat\u001b[0;34m(objs, axis, join, ignore_index, keys, levels, names, verify_integrity, sort, copy)\u001b[0m\n\u001b[1;32m    379\u001b[0m \u001b[38;5;28;01melif\u001b[39;00m copy \u001b[38;5;129;01mand\u001b[39;00m using_copy_on_write():\n\u001b[1;32m    380\u001b[0m     copy \u001b[38;5;241m=\u001b[39m \u001b[38;5;28;01mFalse\u001b[39;00m\n\u001b[0;32m--> 382\u001b[0m op \u001b[38;5;241m=\u001b[39m \u001b[43m_Concatenator\u001b[49m\u001b[43m(\u001b[49m\n\u001b[1;32m    383\u001b[0m \u001b[43m    \u001b[49m\u001b[43mobjs\u001b[49m\u001b[43m,\u001b[49m\n\u001b[1;32m    384\u001b[0m \u001b[43m    \u001b[49m\u001b[43maxis\u001b[49m\u001b[38;5;241;43m=\u001b[39;49m\u001b[43maxis\u001b[49m\u001b[43m,\u001b[49m\n\u001b[1;32m    385\u001b[0m \u001b[43m    \u001b[49m\u001b[43mignore_index\u001b[49m\u001b[38;5;241;43m=\u001b[39;49m\u001b[43mignore_index\u001b[49m\u001b[43m,\u001b[49m\n\u001b[1;32m    386\u001b[0m \u001b[43m    \u001b[49m\u001b[43mjoin\u001b[49m\u001b[38;5;241;43m=\u001b[39;49m\u001b[43mjoin\u001b[49m\u001b[43m,\u001b[49m\n\u001b[1;32m    387\u001b[0m \u001b[43m    \u001b[49m\u001b[43mkeys\u001b[49m\u001b[38;5;241;43m=\u001b[39;49m\u001b[43mkeys\u001b[49m\u001b[43m,\u001b[49m\n\u001b[1;32m    388\u001b[0m \u001b[43m    \u001b[49m\u001b[43mlevels\u001b[49m\u001b[38;5;241;43m=\u001b[39;49m\u001b[43mlevels\u001b[49m\u001b[43m,\u001b[49m\n\u001b[1;32m    389\u001b[0m \u001b[43m    \u001b[49m\u001b[43mnames\u001b[49m\u001b[38;5;241;43m=\u001b[39;49m\u001b[43mnames\u001b[49m\u001b[43m,\u001b[49m\n\u001b[1;32m    390\u001b[0m \u001b[43m    \u001b[49m\u001b[43mverify_integrity\u001b[49m\u001b[38;5;241;43m=\u001b[39;49m\u001b[43mverify_integrity\u001b[49m\u001b[43m,\u001b[49m\n\u001b[1;32m    391\u001b[0m \u001b[43m    \u001b[49m\u001b[43mcopy\u001b[49m\u001b[38;5;241;43m=\u001b[39;49m\u001b[43mcopy\u001b[49m\u001b[43m,\u001b[49m\n\u001b[1;32m    392\u001b[0m \u001b[43m    \u001b[49m\u001b[43msort\u001b[49m\u001b[38;5;241;43m=\u001b[39;49m\u001b[43msort\u001b[49m\u001b[43m,\u001b[49m\n\u001b[1;32m    393\u001b[0m \u001b[43m\u001b[49m\u001b[43m)\u001b[49m\n\u001b[1;32m    395\u001b[0m \u001b[38;5;28;01mreturn\u001b[39;00m op\u001b[38;5;241m.\u001b[39mget_result()\n",
      "File \u001b[0;32m~/Library/Python/3.9/lib/python/site-packages/pandas/core/reshape/concat.py:445\u001b[0m, in \u001b[0;36m_Concatenator.__init__\u001b[0;34m(self, objs, axis, join, keys, levels, names, ignore_index, verify_integrity, copy, sort)\u001b[0m\n\u001b[1;32m    442\u001b[0m \u001b[38;5;28mself\u001b[39m\u001b[38;5;241m.\u001b[39mverify_integrity \u001b[38;5;241m=\u001b[39m verify_integrity\n\u001b[1;32m    443\u001b[0m \u001b[38;5;28mself\u001b[39m\u001b[38;5;241m.\u001b[39mcopy \u001b[38;5;241m=\u001b[39m copy\n\u001b[0;32m--> 445\u001b[0m objs, keys \u001b[38;5;241m=\u001b[39m \u001b[38;5;28;43mself\u001b[39;49m\u001b[38;5;241;43m.\u001b[39;49m\u001b[43m_clean_keys_and_objs\u001b[49m\u001b[43m(\u001b[49m\u001b[43mobjs\u001b[49m\u001b[43m,\u001b[49m\u001b[43m \u001b[49m\u001b[43mkeys\u001b[49m\u001b[43m)\u001b[49m\n\u001b[1;32m    447\u001b[0m \u001b[38;5;66;03m# figure out what our result ndim is going to be\u001b[39;00m\n\u001b[1;32m    448\u001b[0m ndims \u001b[38;5;241m=\u001b[39m \u001b[38;5;28mself\u001b[39m\u001b[38;5;241m.\u001b[39m_get_ndims(objs)\n",
      "File \u001b[0;32m~/Library/Python/3.9/lib/python/site-packages/pandas/core/reshape/concat.py:507\u001b[0m, in \u001b[0;36m_Concatenator._clean_keys_and_objs\u001b[0;34m(self, objs, keys)\u001b[0m\n\u001b[1;32m    504\u001b[0m     objs_list \u001b[38;5;241m=\u001b[39m \u001b[38;5;28mlist\u001b[39m(objs)\n\u001b[1;32m    506\u001b[0m \u001b[38;5;28;01mif\u001b[39;00m \u001b[38;5;28mlen\u001b[39m(objs_list) \u001b[38;5;241m==\u001b[39m \u001b[38;5;241m0\u001b[39m:\n\u001b[0;32m--> 507\u001b[0m     \u001b[38;5;28;01mraise\u001b[39;00m \u001b[38;5;167;01mValueError\u001b[39;00m(\u001b[38;5;124m\"\u001b[39m\u001b[38;5;124mNo objects to concatenate\u001b[39m\u001b[38;5;124m\"\u001b[39m)\n\u001b[1;32m    509\u001b[0m \u001b[38;5;28;01mif\u001b[39;00m keys \u001b[38;5;129;01mis\u001b[39;00m \u001b[38;5;28;01mNone\u001b[39;00m:\n\u001b[1;32m    510\u001b[0m     objs_list \u001b[38;5;241m=\u001b[39m \u001b[38;5;28mlist\u001b[39m(com\u001b[38;5;241m.\u001b[39mnot_none(\u001b[38;5;241m*\u001b[39mobjs_list))\n",
      "\u001b[0;31mValueError\u001b[0m: No objects to concatenate"
     ]
    }
   ],
   "source": [
    "import camelot\n",
    "import pandas as pd\n",
    "\n",
    "# Chemin vers le PDF\n",
    "pdf_file = \"nicewicz_chemcommun_2016_crop.pdf\"\n",
    "\n",
    "# Extraction des tableaux avec camelot\n",
    "tables = camelot.read_pdf(pdf_file, pages='all', flavor='stream')  # ou 'lattice' si tables bien délimitées\n",
    "\n",
    "# Afficher le nombre de tables détectées\n",
    "print(f\"{len(tables)} tableaux extraits.\")\n",
    "\n",
    "# Concaténer tous les tableaux détectés en un seul DataFrame\n",
    "df_all = pd.concat([table.df for table in tables], ignore_index=True)\n",
    "\n",
    "# Exporter en CSV\n",
    "output_file = \"photophysical_properties_camelot.csv\"\n",
    "df_all.to_csv(output_file, index=False)\n",
    "\n",
    "print(f\"Données exportées dans : {output_file}\")\n"
   ]
  },
  {
   "cell_type": "code",
   "execution_count": null,
   "id": "fc5bab7c-f9db-4491-a7a8-e6cd681e6abe",
   "metadata": {},
   "outputs": [],
   "source": []
  },
  {
   "cell_type": "code",
   "execution_count": 23,
   "id": "666b2035-6982-41ec-ba55-1c39350f6b20",
   "metadata": {},
   "outputs": [
    {
     "name": "stdout",
     "output_type": "stream",
     "text": [
      "SS\n",
      "DCB | 290 | CT 8 tt tess tS\n",
      "DCN a Co QO OY > sO Ye es ee\n",
      "pea | 4a _| 49 | ove | omoes | 290 | 181 | 01 [| no +. os?\n",
      "\n",
      "TXO ET S'S GSC OS > OS Oy OO SOO SO\n",
      "\n",
      "reag | 40 | ‘| ‘| 10 || 246 | oo || — | —S—idY ate\n",
      "\n",
      "ppg | =409 |) nn 0g st\n",
      "\n",
      "aq | 36 | toe i ars 06 ir\n",
      "ew\n",
      "\n",
      "NMar [sisi ii\n",
      "\n",
      "a\n",
      "\n",
      "Rewer [| 37 if 0s SS—~d OSS\n",
      "\n",
      "PheAccMer | #24 oo [| Cd oe Cr CCC CCST\n",
      "\n",
      "x0 CS EO EC EC\n",
      "\n",
      "a A ET\n",
      "\n",
      "Aa m || o% |_| _286 a a\n",
      "\n",
      "PF SE SC\n",
      "a Re es QS QO OO QO CO\n",
      "\n",
      "rR] 2D oso | 00 | om | a7 | 18 | os) | war | is | 133 | oar | 056\n",
      "a Rs CO QQ\n",
      "\n",
      "[Rh6G] 530 4.13 0.90 0.002 2.32 2.09 -1.14 +1.23 +1.18 —1.09 +0.95 —0.86\n",
      "\n",
      "\n",
      "Extraction terminée, fichier photophysical_properties_ocr.csv créé\n"
     ]
    }
   ],
   "source": [
    "from pdf2image import convert_from_path\n",
    "import pytesseract\n",
    "import re\n",
    "import pandas as pd\n",
    "\n",
    "pdf_file = \"nicewicz_chemcommun_2016_crop.pdf\"\n",
    "pages = convert_from_path(pdf_file)\n",
    "\n",
    "data = []\n",
    "columns = [\n",
    "    \"Abbreviation\", \"L(abs,max), nm\", \"tf (ns)\", \"(phi)f\", \"(phi)ISC\", \"E(0,0; S1)\", \"E(0,0; T1)\", \n",
    "    \"Ered\", \"Eox\", \"Ered, S1\", \"Eox, S1\", \"Ered, T1\", \"Eox, T1\"\n",
    "]\n",
    "\n",
    "def nettoyage_texte_ligne(line):\n",
    "    # Enlever caractères parasites\n",
    "    line = line.replace('‘', \"'\").replace('’', \"'\").replace('—', '-')\n",
    "    # Remplacer multiples espaces par un seul\n",
    "    line = ' '.join(line.split())\n",
    "    # Supprimer caractères non imprimables (ex: accents mal lus)\n",
    "    line = ''.join(c for c in line if c.isprintable())\n",
    "    return line\n",
    "\n",
    "for i, page in enumerate(pages):\n",
    "    text = pytesseract.image_to_string(page)\n",
    "    # Nettoyer et rechercher les lignes tabulaires\n",
    "    lines = text.split('\\n')\n",
    "    for line in lines:\n",
    "        # Exemple de pattern simple, à ajuster selon OCR\n",
    "        match = re.match(\n",
    "            r\"([A-Za-z0-9+~\\-]+)\\s+([0-9.~]+)\\s+([0-9.~]+)\\s+([0-9.~]+)\\s+([0-9.~]+)\\s+([0-9.~]+)\\s+([0-9.~]+)\\s+([-0-9.~]+)\\s+([-0-9.~]+)\\s+([-0-9.~]+)\\s+([-0-9.~]+)\\s+([-0-9.~]+)\\s+([-0-9.~]+)\", \n",
    "            line)\n",
    "        if match:\n",
    "            data.append(match.groups())\n",
    "\n",
    "text = pytesseract.image_to_string(page)\n",
    "print(text[:1000])  # Affiche les 1000 premiers caractères pour voir la qualité\n",
    "\n",
    "\n",
    "df = pd.DataFrame(data, columns=columns)\n",
    "df.to_csv(\"photophysical_properties_ocr.csv\", index=False)\n",
    "print(\"Extraction terminée, fichier photophysical_properties_ocr.csv créé\")\n"
   ]
  },
  {
   "cell_type": "code",
   "execution_count": null,
   "id": "ca343e12-563e-49ee-a57d-4bc93521c730",
   "metadata": {},
   "outputs": [],
   "source": []
  }
 ],
 "metadata": {
  "kernelspec": {
   "display_name": "Python 3 (ipykernel)",
   "language": "python",
   "name": "python3"
  },
  "language_info": {
   "codemirror_mode": {
    "name": "ipython",
    "version": 3
   },
   "file_extension": ".py",
   "mimetype": "text/x-python",
   "name": "python",
   "nbconvert_exporter": "python",
   "pygments_lexer": "ipython3",
   "version": "3.9.6"
  }
 },
 "nbformat": 4,
 "nbformat_minor": 5
}
