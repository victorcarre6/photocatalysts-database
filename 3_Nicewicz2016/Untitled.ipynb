{
 "cells": [
  {
   "cell_type": "code",
   "execution_count": 1,
   "id": "b508cdeb-32f7-4bb5-8de7-0151d4e526e5",
   "metadata": {},
   "outputs": [],
   "source": [
    "import pdfplumber\n",
    "import pandas as pd\n",
    "import re\n",
    "\n",
    "# Définition des chemins de fichiers\n",
    "pdf_file = \"nicewicz_chemcommun_2016_crop.pdf\"\n",
    "output_csv = \"nicewicz-database.csv\""
   ]
  },
  {
   "cell_type": "code",
   "execution_count": 2,
   "id": "c27771b6-83e0-468c-a7d7-90b57a54110e",
   "metadata": {},
   "outputs": [
    {
     "name": "stderr",
     "output_type": "stream",
     "text": [
      "CropBox missing from /Page, defaulting to MediaBox\n",
      "CropBox missing from /Page, defaulting to MediaBox\n"
     ]
    },
    {
     "name": "stdout",
     "output_type": "stream",
     "text": [
      "❌ Aucun tableau trouvé.\n"
     ]
    }
   ],
   "source": [
    "# Paramètres de nettoyage\n",
    "header_names = [\"Abbreviation\", \"L(abs,max), nm\", \"tf(ns)\", \"(phi)f\", \"(phi)ISC\"]\n",
    "\n",
    "# Extraction des textes\n",
    "data = []\n",
    "with pdfplumber.open(pdf_file) as pdf:\n",
    "    for page in pdf.pages:\n",
    "        # Récupération du texte brut\n",
    "        text = page.extract_text()\n",
    "        \n",
    "        # Nettoyage de base\n",
    "        lines = text.split(\"\\n\")\n",
    "        for line in lines:\n",
    "            # Nettoyer les espaces multiples\n",
    "            row = re.split(r'\\s{2,}', line.strip())\n",
    "            \n",
    "            # Ignorer les lignes vides et celles qui ne correspondent pas au nombre de colonnes attendu\n",
    "            if len(row) == len(header_names):\n",
    "                data.append(row)\n",
    "\n",
    "# Vérification si des lignes ont été extraites\n",
    "if not data:\n",
    "    print(\"❌ Aucun tableau trouvé.\")\n",
    "else:\n",
    "    # Création du DataFrame Pandas\n",
    "    df = pd.DataFrame(data, columns=header_names)\n",
    "\n",
    "    # Affichage pour vérification\n",
    "    print(\"\\nAperçu des données extraites :\")\n",
    "    print(df.head(10))\n",
    "\n",
    "   \n"
   ]
  },
  {
   "cell_type": "code",
   "execution_count": null,
   "id": "15b84b17-ab55-4854-bd27-0ba36128f041",
   "metadata": {},
   "outputs": [],
   "source": [
    " # Export en CSV\n",
    "    df.to_csv(output_csv, index=False)\n",
    "    print(f\"\\n✅ Extraction terminée. Données sauvegardées dans : {output_csv}\")"
   ]
  },
  {
   "cell_type": "code",
   "execution_count": null,
   "id": "bb42e9bf-9cd1-4be1-8c05-2898e40f93b8",
   "metadata": {},
   "outputs": [],
   "source": [
    "SAUVEGARDE DE CELLULES EN DESSOUS"
   ]
  },
  {
   "cell_type": "code",
   "execution_count": 2,
   "id": "8575043c-8e92-461b-a2ed-c78f24aeef8c",
   "metadata": {},
   "outputs": [
    {
     "name": "stdout",
     "output_type": "stream",
     "text": [
      "--- Texte OCR page 1 ---\n",
      "Abbreviation L(abs,max), nm tf(ns) (phi)ISC E(0,0; $1) E(0,0; T1) Ered, $1 Ered, T1\n",
      "\n",
      "DCB 290 9.7 4.01 3.04 —1.46 +2.55 +1.58\n",
      "DCN 325 10.3 3.57 2.41 ~1.27 +2.3 +1.14\n",
      "DCA 422 14.9 0.76 0.0085 2.90 181 0.91 +1.99 +0.9\"\n",
      "BP 335 0.008 1.0 3.22 3.0 ~1.72 +2.39 +15 ~0.83 +1.28 ~0.61\n",
      "MK 365 2.98 2.7 2.20 +0.86 +0.76 ~2.12 +0.48 ~1.84\n",
      "FLN 377 16.2 0.97 2.31 ~1.35 +17 +0.96 ~0.61\n",
      "XO 340 <0.0 1.0 3.4 3.22 ~1.65 +18 +1.76 ~1.61 +157 ~1,42\n",
      "TXO 360 2 0.99 3.14 2.8 ~1.62 +1.69 +1.52 —1.45 +1.18 ~1.11\n",
      "TCBQ. 450 1.0 2.46 0.00 +2.46\n",
      "DDQ. ~400 1.0 2.67 +0.49 +3.18\n",
      "AQ 326 1.04 2.73 —0.96 +1.77\n",
      "TPT* 415 4.38 0.58 0.42 2.83 2.3 ~0.32 +2.55 +2.02\n",
      "p-OMeTPT* 422,470 4.0 0.95 0.03 2.34 2.21 —0.50 +1.84 +171\n",
      "0.49\n",
      "TTPP* 414 3.6 0.03 0.94 2.64 2.28 —0.19 +2.45 +2.09\n",
      "p-OMeTTPP* 455 2.23 ~0.33 +19\n",
      "NMQ+ 315 20 0.79 3.50 ~0.85 +2.70\n",
      "QuCN+ 329 45 3.32 —0.60 +2.72\n",
      "~0.79\n",
      "Acr-Me+ 37 . 1.0 2.80 —0.46 +232\n",
      "Ph-Acr-Me+ 424 1.5 0.063 —0.54\n",
      "Mes-Acr-Me+ 425 6 0.035 0.38 2.67 1.94 —0.49 +2.18 +145\n",
      "AO 425 2.58 2.4 +0.60\n",
      "AOH* 495 1.8 0.18 2.58 2.07 ~1.18 +0.95\n",
      "2.43 2.13\n",
      "AcrF* 470 0.54 2.56 2.22\n",
      "PE 393\n",
      "PFH* 470 ~S 0.39 0.10 2.56 2.22 ~0.74 +1.82 +1.48\n",
      "PTh <300 0.81-2.3 2.8 2.4 +0.68 2.1 -1.7\n",
      "MB* 650 1.0 0.52 1.89 1.50 ~0.30 +1.13 +1.56 ~0.73 +1.60 ~0.68\n",
      "664 0.6 1.85 +1.14 ~0.33\n",
      "[FL] 437 4.2 0.2 0.03 2.42 1.94 -1.17 +0.87 +1.25 ~1.55 +0.77 ~1.07\n",
      "[EY] $20 2.1 0.48 0.32 2.31 1.91 —1.08 +0.76 +1.23 ~1.58 +0.83 ~1.15\n",
      "$33 2.66 0.19 ~1.13 +0.72\n",
      "[RB] 549 0.50 0.09 0.77 2.17 18 —0.99 +0.84 +1.18 ~1.33 +0.81 —0.96\n",
      "—0.78\n",
      "[RhB] 550 2.45 0.58 0.12 2.22 1.80 —0.96 +0.91 +1.26 ~1.31 +0.84 —0.89\n",
      "0.97 0.0024\n",
      "\n",
      "[Rh6G] 530 4.13 0.90 0.002 2.32 2.09 —1.14 +1.23 +1.18 —1.09 +0.95 —0.86\n",
      "\n",
      "\n",
      "\n",
      "\n"
     ]
    }
   ],
   "source": [
    "# Ouvrir le document\n",
    "doc = fitz.open(pdf_file)\n",
    "\n",
    "for page_num in range(len(doc)):\n",
    "    page = doc.load_page(page_num)\n",
    "    \n",
    "    # Extraire l'image de la page entière (screenshot)\n",
    "    pix = page.get_pixmap(dpi=300)  # haute résolution pour OCR\n",
    "    \n",
    "    # Convertir en image PIL\n",
    "    img = Image.open(io.BytesIO(pix.tobytes()))\n",
    "    \n",
    "    # Appliquer OCR sur l'image\n",
    "    text = pytesseract.image_to_string(img)  # 'fra' pour français\n",
    "    \n",
    "    print(f\"--- Texte OCR page {page_num + 1} ---\")\n",
    "    print(text)\n",
    "    print(\"\\n\\n\")\n",
    "\n",
    "doc.close()"
   ]
  },
  {
   "cell_type": "code",
   "execution_count": null,
   "id": "022c5f3e-9bee-48c5-9342-e38f1435466a",
   "metadata": {},
   "outputs": [],
   "source": []
  }
 ],
 "metadata": {
  "kernelspec": {
   "display_name": "Python 3 (ipykernel)",
   "language": "python",
   "name": "python3"
  },
  "language_info": {
   "codemirror_mode": {
    "name": "ipython",
    "version": 3
   },
   "file_extension": ".py",
   "mimetype": "text/x-python",
   "name": "python",
   "nbconvert_exporter": "python",
   "pygments_lexer": "ipython3",
   "version": "3.9.6"
  }
 },
 "nbformat": 4,
 "nbformat_minor": 5
}
